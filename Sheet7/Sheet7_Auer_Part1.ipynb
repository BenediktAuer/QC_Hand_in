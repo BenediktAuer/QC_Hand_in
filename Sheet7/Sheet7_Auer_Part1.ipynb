{
 "cells": [
  {
   "cell_type": "markdown",
   "metadata": {},
   "source": [
    "We implemented the division-based Euklid algorithm"
   ]
  },
  {
   "cell_type": "code",
   "execution_count": 1,
   "metadata": {},
   "outputs": [
    {
     "data": {
      "text/plain": [
       "OwnGcd (generic function with 1 method)"
      ]
     },
     "metadata": {},
     "output_type": "display_data"
    }
   ],
   "source": [
    "function OwnGcd(a,b)\n",
    "    while b ≠ 0\n",
    "        t = b\n",
    "        b = a %b\n",
    "        a = t\n",
    "    end\n",
    "    return abs(a)\n",
    "end"
   ]
  },
  {
   "cell_type": "markdown",
   "metadata": {},
   "source": [
    "To test the code we generate random integers and compare our fdunction to the build in one."
   ]
  },
  {
   "cell_type": "code",
   "execution_count": 2,
   "metadata": {},
   "outputs": [],
   "source": [
    "for _ in 1:10\n",
    "    a = rand(Int16)\n",
    "    b = rand(Int16)\n",
    "    @assert OwnGcd(a,b) == gcd(a,b)\n",
    "end"
   ]
  },
  {
   "cell_type": "code",
   "execution_count": 3,
   "metadata": {},
   "outputs": [
    {
     "data": {
      "text/plain": [
       "findPeriod (generic function with 1 method)"
      ]
     },
     "metadata": {},
     "output_type": "display_data"
    }
   ],
   "source": [
    "function findPeriod(a,N)\n",
    "    x = 1\n",
    "    result = a % N\n",
    "    while result != 1\n",
    "        result = (result * a) % N\n",
    "        x += 1\n",
    "    end\n",
    "    return x\n",
    "end"
   ]
  },
  {
   "cell_type": "code",
   "execution_count": 4,
   "metadata": {},
   "outputs": [
    {
     "data": {
      "text/plain": [
       "findPrimeFactors (generic function with 1 method)"
      ]
     },
     "metadata": {},
     "output_type": "display_data"
    }
   ],
   "source": [
    "function findPrimeFactors(N)\n",
    "    while true\n",
    "    a = rand(1:N-1)\n",
    "    d = OwnGcd(a, N)\n",
    "    if d != 1\n",
    "        return d\n",
    "    end\n",
    "    r = findPeriod(a, N)\n",
    "    if r % 2 == 1\n",
    "        continue\n",
    "    end\n",
    "    a_r_half = powermod(a, r ÷ 2, N)\n",
    "    if a_r_half == N - 1\n",
    "        continue\n",
    "    end\n",
    "    return OwnGcd(a_r_half + 1, N), OwnGcd(a_r_half - 1, N)\n",
    "end\n",
    "end"
   ]
  },
  {
   "cell_type": "markdown",
   "metadata": {},
   "source": [
    "The extended Euclidean algorithm is basen on [Source](https://en.wikipedia.org/wiki/Extended_Euclidean_algorithm#Computing_multiplicative_inverses_in_modular_structures)"
   ]
  },
  {
   "cell_type": "code",
   "execution_count": 5,
   "metadata": {},
   "outputs": [
    {
     "data": {
      "text/plain": [
       "inverse (generic function with 1 method)"
      ]
     },
     "metadata": {},
     "output_type": "display_data"
    }
   ],
   "source": [
    "function inverse(a,n)\n",
    "    t = 0; r=n\n",
    "    t_new = 1; r_new =a\n",
    "    while r_new ≠ 0\n",
    "\n",
    "        qt = ÷(r,r_new)\n",
    "        t, t_new = (t_new, t- qt*t_new)\n",
    "        r, r_new = (r_new, r- qt*r_new)\n",
    "\n",
    "    end\n",
    "    @assert !(r>1)\n",
    "    return t*(1+n*(t<0))\n",
    "end"
   ]
  },
  {
   "cell_type": "code",
   "execution_count": 6,
   "metadata": {},
   "outputs": [
    {
     "data": {
      "text/plain": [
       "ϕ (generic function with 1 method)"
      ]
     },
     "metadata": {},
     "output_type": "display_data"
    }
   ],
   "source": [
    "ϕ(p,q) = (p-1)*(q-1)"
   ]
  },
  {
   "cell_type": "code",
   "execution_count": 7,
   "metadata": {},
   "outputs": [
    {
     "data": {
      "text/plain": [
       "4187899"
      ]
     },
     "metadata": {},
     "output_type": "display_data"
    }
   ],
   "source": [
    "N = 71219839\n",
    "e = 4187899"
   ]
  },
  {
   "cell_type": "code",
   "execution_count": 8,
   "metadata": {},
   "outputs": [
    {
     "name": "stdout",
     "output_type": "stream",
     "text": [
      "(p, q) = findPrimeFactors(N) = (7649, 9311)\n"
     ]
    }
   ],
   "source": [
    "@show p, q = findPrimeFactors(N)\n",
    "@assert p*q == N"
   ]
  },
  {
   "cell_type": "code",
   "execution_count": 9,
   "metadata": {},
   "outputs": [
    {
     "data": {
      "text/plain": [
       "6567859"
      ]
     },
     "metadata": {},
     "output_type": "display_data"
    }
   ],
   "source": [
    "d =inverse(e,ϕ(p,q))"
   ]
  },
  {
   "cell_type": "markdown",
   "metadata": {},
   "source": [
    "Thus the decryption Key is d = 6567859, and p = 7649, q = 9311"
   ]
  },
  {
   "cell_type": "markdown",
   "metadata": {},
   "source": [
    "**2.**"
   ]
  },
  {
   "cell_type": "markdown",
   "metadata": {},
   "source": [
    "To de/encode Dicts are used"
   ]
  },
  {
   "cell_type": "code",
   "execution_count": 10,
   "metadata": {},
   "outputs": [
    {
     "data": {
      "text/plain": [
       "Dict{Int64, Char} with 26 entries:\n",
       "  5  => 'f'\n",
       "  16 => 'q'\n",
       "  20 => 'u'\n",
       "  12 => 'm'\n",
       "  24 => 'y'\n",
       "  8  => 'i'\n",
       "  17 => 'r'\n",
       "  23 => 'x'\n",
       "  19 => 't'\n",
       "  22 => 'w'\n",
       "  0  => 'a'\n",
       "  6  => 'g'\n",
       "  1  => 'b'\n",
       "  11 => 'l'\n",
       "  9  => 'j'\n",
       "  14 => 'o'\n",
       "  3  => 'd'\n",
       "  7  => 'h'\n",
       "  25 => 'z'\n",
       "  ⋮  => ⋮"
      ]
     },
     "metadata": {},
     "output_type": "display_data"
    }
   ],
   "source": [
    "key = Dict([(Char(97 +i  ),i) for i in 0:25])\n",
    "rkey = Dict(v => k for (k,v) in key)"
   ]
  },
  {
   "cell_type": "code",
   "execution_count": 11,
   "metadata": {},
   "outputs": [
    {
     "data": {
      "text/plain": [
       "getDecodedMassage (generic function with 1 method)"
      ]
     },
     "metadata": {},
     "output_type": "display_data"
    }
   ],
   "source": [
    "function getEncodedMassage(string,keys)\n",
    "    encodedMessage = 0\n",
    "    for (i,char) in enumerate(reverse(string))\n",
    "        encodedMessage += key[char]*26^(i-1)\n",
    "    end\n",
    "    return encodedMessage\n",
    "end\n",
    "function getDecodedMassage(int, keys)\n",
    "    message = \"\"\n",
    "    while int > 0\n",
    "         message = keys[(int % 26)] * message\n",
    "        int ÷= 26\n",
    "    end\n",
    "    return message\n",
    "end"
   ]
  },
  {
   "cell_type": "markdown",
   "metadata": {},
   "source": [
    "To test the encoder I use the example of the sheet:"
   ]
  },
  {
   "cell_type": "code",
   "execution_count": 12,
   "metadata": {},
   "outputs": [
    {
     "name": "stdout",
     "output_type": "stream",
     "text": [
      "testEncode = getEncodedMassage(\"hallo\", key) = 3206568\n"
     ]
    },
    {
     "data": {
      "text/plain": [
       "\"hallo\""
      ]
     },
     "metadata": {},
     "output_type": "display_data"
    }
   ],
   "source": [
    "@show testEncode = getEncodedMassage(\"hallo\",key)\n",
    "getDecodedMassage(testEncode, rkey)"
   ]
  },
  {
   "cell_type": "markdown",
   "metadata": {},
   "source": [
    "I can now encode the string \"bwtlqv\":"
   ]
  },
  {
   "cell_type": "code",
   "execution_count": 13,
   "metadata": {},
   "outputs": [
    {
     "data": {
      "text/plain": [
       "22276665"
      ]
     },
     "metadata": {},
     "output_type": "display_data"
    }
   ],
   "source": [
    "encryptedEncodedMsg = getEncodedMassage(\"bwtlqv\",key)"
   ]
  },
  {
   "cell_type": "markdown",
   "metadata": {},
   "source": [
    "I can decrypt the massage using the decryption Key d and N:"
   ]
  },
  {
   "cell_type": "code",
   "execution_count": 14,
   "metadata": {},
   "outputs": [
    {
     "data": {
      "text/plain": [
       "203179"
      ]
     },
     "metadata": {},
     "output_type": "display_data"
    }
   ],
   "source": [
    "decryptedEncodedMsg = powermod(encryptedEncodedMsg, d,N)"
   ]
  },
  {
   "cell_type": "markdown",
   "metadata": {},
   "source": [
    "Finally I can decode the decrypted massage"
   ]
  },
  {
   "cell_type": "code",
   "execution_count": 15,
   "metadata": {},
   "outputs": [
    {
     "data": {
      "text/plain": [
       "\"loop\""
      ]
     },
     "metadata": {},
     "output_type": "display_data"
    }
   ],
   "source": [
    "getDecodedMassage(decryptedEncodedMsg,rkey)"
   ]
  },
  {
   "cell_type": "markdown",
   "metadata": {},
   "source": [
    "The secret massage is thus \"loop\""
   ]
  }
 ],
 "metadata": {
  "kernelspec": {
   "display_name": "Julia 1.11.1",
   "language": "julia",
   "name": "julia-1.11"
  },
  "language_info": {
   "file_extension": ".jl",
   "mimetype": "application/julia",
   "name": "julia",
   "version": "1.11.1"
  }
 },
 "nbformat": 4,
 "nbformat_minor": 2
}
