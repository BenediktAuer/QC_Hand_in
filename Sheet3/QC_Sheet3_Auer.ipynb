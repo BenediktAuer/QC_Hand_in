{
 "cells": [
  {
   "cell_type": "markdown",
   "metadata": {},
   "source": [
    "**a)**\n",
    "I start by defining the Main object of this exercise, the `QuantumState` structure. It consists of an Vector (Array) of amplitudes as well the number of qubits. The i`th element represents the binary(n) state in the computational basis.\n",
    "This definition enables the use of bitwise operations."
   ]
  },
  {
   "cell_type": "code",
   "execution_count": 1,
   "metadata": {},
   "outputs": [
    {
     "data": {
      "text/plain": [
       "Base.show"
      ]
     },
     "metadata": {},
     "output_type": "display_data"
    }
   ],
   "source": [
    "using LinearAlgebra, Printf\n",
    "\n",
    "\"\"\"\n",
    "Represents a quantum state in the computational basis\n",
    "\"\"\"\n",
    "struct QuantumState\n",
    "    amplitudes::Vector{ComplexF64}\n",
    "    n_qubits::Int\n",
    "    #custom Constructor\n",
    "    function QuantumState(amplitudes::Vector{ComplexF64})\n",
    "        n = length(amplitudes)\n",
    "        # Check if the length is a power of 2\n",
    "        ispow2(n) ||throw(ArgumentError(\"Number of amplitudes must be a power of 2\"))\n",
    "        \n",
    "        # Normalize the state vector\n",
    "        norm_factor = norm(amplitudes)\n",
    "        !(norm_factor ≈ 0) || throw(ArgumentError(\"State vector cannot be zero\"))\n",
    "        new(amplitudes / norm_factor, Int(log2(n)))\n",
    "    end\n",
    "end\n",
    "\n",
    "\"\"\"\n",
    "Creates a computational basis state |i⟩ for given integer i\n",
    "\"\"\"\n",
    "function basis_state(i::Integer, n_qubits::Integer)\n",
    "    !(i >= 2^n_qubits) || throw(ArgumentError(\"Index must be less than 2^$n_qubits\"))\n",
    "    amplitudes = zeros(ComplexF64, 2^n_qubits)\n",
    "    amplitudes[i + 1] = 1.0\n",
    "    return QuantumState(amplitudes)\n",
    "end\n",
    "\n",
    "\n",
    "\n",
    "\"\"\"\n",
    "Pretty print stuff\n",
    "\"\"\"\n",
    "function Base.show(io::IO, state::QuantumState)\n",
    "    print(io, \"Quantum state with $(state.n_qubits) qubits:\\n\")\n",
    "    for (i, amplitude) in enumerate(state.amplitudes)\n",
    "        if abs(amplitude) > 1e-10  # Only print non-zero amplitudes\n",
    "            basis = string(i-1, base=2, pad=state.n_qubits)\n",
    "            print(io, \"  ($(round(amplitude, digits=3)))|$basis⟩\\n\")\n",
    "        end\n",
    "    end\n",
    "end"
   ]
  },
  {
   "cell_type": "code",
   "execution_count": 2,
   "metadata": {},
   "outputs": [
    {
     "name": "stdout",
     "output_type": "stream",
     "text": [
      "Quantum state with 2 qubits:\n",
      "  (0.5 + 0.0im)|00⟩\n",
      "  (0.5 + 0.0im)|01⟩\n",
      "  (0.5 + 0.0im)|10⟩\n",
      "  (0.5 + 0.0im)|11⟩\n"
     ]
    },
    {
     "data": {
      "text/plain": [
       "Quantum state with 2 qubits:\n",
       "  (1.0 + 0.0im)|00⟩\n"
      ]
     },
     "metadata": {},
     "output_type": "display_data"
    }
   ],
   "source": [
    "QuantumState(ComplexF64[1,1,1,1]) |>print\n",
    "\n",
    "teststate = basis_state(0,2)"
   ]
  },
  {
   "cell_type": "markdown",
   "metadata": {},
   "source": [
    "**b).1** To implement the Not gate I use a bit mask, ``<<`` is the left shift operator. In the following \"the bit\" specifies the target_bit (0 based indexing!). Together with the `&` (bitwise `AND`) operator the mask will return `true` if the bit is not set. The `XOR` operation (`⊻`) is used to get the index of the state where the bit is set. In the last step the amplitudes of the state where the bit is set and non set are swaped."
   ]
  },
  {
   "cell_type": "code",
   "execution_count": 3,
   "metadata": {},
   "outputs": [
    {
     "data": {
      "text/plain": [
       "apply_not!"
      ]
     },
     "metadata": {},
     "output_type": "display_data"
    }
   ],
   "source": [
    "\n",
    "\n",
    "\"\"\"\n",
    "Applies a NOT gate to target_qubit\n",
    "\"\"\"\n",
    "function apply_not!(state::QuantumState, target_qubit::Integer)\n",
    "     !(target_qubit >= state.n_qubits) || !(target_qubit < 0) || throw(ArgumentError(\"Invalid target qubit\"))\n",
    "    \n",
    "    n = state.n_qubits\n",
    "    mask = 1 << target_qubit  # Bit mask for target qubit\n",
    "    \n",
    "    # Swap amplitudes of traget_qubit\n",
    "    for i in 0:(2^n-1)\n",
    "        #Returns true if traget_qubit bit is not set\n",
    "        if (i & mask) == 0\n",
    "            # j is i with the target qubit flipped\n",
    "            j = i ⊻ mask\n",
    "            # Swap amplitudes\n",
    "            state.amplitudes[i+1], state.amplitudes[j+1] = \n",
    "                state.amplitudes[j+1], state.amplitudes[i+1]\n",
    "        end\n",
    "    end\n",
    "    \n",
    "    return state\n",
    "end"
   ]
  },
  {
   "cell_type": "code",
   "execution_count": 4,
   "metadata": {},
   "outputs": [
    {
     "name": "stdout",
     "output_type": "stream",
     "text": [
      "Quantum state with 2 qubits:\n",
      "  (1.0 + 0.0im)|01⟩\n"
     ]
    }
   ],
   "source": [
    "apply_not!(teststate,0)\n",
    "teststate|>print"
   ]
  },
  {
   "cell_type": "markdown",
   "metadata": {},
   "source": [
    "**b).2** For the Hadamard gate a bit mask is used (again). Instead of swapping the amplitudes, they are brought into a supperposition."
   ]
  },
  {
   "cell_type": "code",
   "execution_count": 5,
   "metadata": {},
   "outputs": [
    {
     "data": {
      "text/plain": [
       "apply_hadamard!"
      ]
     },
     "metadata": {},
     "output_type": "display_data"
    }
   ],
   "source": [
    "\"\"\"\n",
    "Applies a Hadamard gate to target_qubit\n",
    "\"\"\"\n",
    "function apply_hadamard!(state::QuantumState, target_qubit::Integer)\n",
    "    !(target_qubit >= state.n_qubits) || !(target_qubit < 0) || throw(ArgumentError(\"Invalid target qubit\"))\n",
    "    \n",
    "    n = state.n_qubits\n",
    "    mask = 1 << target_qubit  # Bit mask for target qubit\n",
    "    factor = 1/sqrt(2)\n",
    "    \n",
    "    # Create temporary array to store new amplitudes\n",
    "    new_amplitudes = similar(state.amplitudes)\n",
    "    \n",
    "    # bring amplitudes into supperposition, that differ only in target qubit\n",
    "    for i in 0:(2^n-1)\n",
    "        if (i & mask) == 0   #Returns true if traget_qubit bit is not set\n",
    "            j = i ⊻ mask    # j is i with the target qubit flipped\n",
    "            \n",
    "            # Apply Hadamard transformation to the pair\n",
    "            new_amplitudes[i+1] = factor * (state.amplitudes[i+1] + state.amplitudes[j+1]) # for |0⟩\n",
    "            new_amplitudes[j+1] = factor * (state.amplitudes[i+1] - state.amplitudes[j+1]) # for |1⟩\n",
    "        end\n",
    "    end\n",
    "    \n",
    "    # Update state with new amplitudes\n",
    "    state.amplitudes .= new_amplitudes\n",
    "    return state\n",
    "end"
   ]
  },
  {
   "cell_type": "code",
   "execution_count": 6,
   "metadata": {},
   "outputs": [
    {
     "data": {
      "text/plain": [
       "Quantum state with 2 qubits:\n",
       "  (0.707 + 0.0im)|01⟩\n",
       "  (0.707 + 0.0im)|11⟩\n"
      ]
     },
     "metadata": {},
     "output_type": "display_data"
    }
   ],
   "source": [
    "apply_hadamard!(teststate,1)"
   ]
  },
  {
   "cell_type": "markdown",
   "metadata": {},
   "source": [
    "**c)** The `CNOT` Gate is implemented using not one but two bit masks, one for the control and the other one for the target qubit. Instead to the single qubit gates, we only want an operation to happen when the control qubit is 1. If thats the case the the encoding of the qubits ensures that at index `i` one of the amplitudes to be flipped is located. The other index is found using the usual method using the target mask. Here the amplitudes of index `i` and `j` are not done directly swaped. Instead the swaping is archieved by iterating over the index `i` and `j` independetly."
   ]
  },
  {
   "cell_type": "code",
   "execution_count": 7,
   "metadata": {},
   "outputs": [
    {
     "data": {
      "text/plain": [
       "apply_cnot! (generic function with 1 method)"
      ]
     },
     "metadata": {},
     "output_type": "display_data"
    }
   ],
   "source": [
    "function apply_cnot!(state::QuantumState, control_qubit::Integer, target_qubit::Integer)\n",
    "    if control_qubit >= state.n_qubits || control_qubit < 0 ||\n",
    "       target_qubit >= state.n_qubits || target_qubit < 0 ||\n",
    "       control_qubit == target_qubit\n",
    "        throw(ArgumentError(\"Invalid control or target qubit\"))\n",
    "    end\n",
    "    \n",
    "    n = state.n_qubits\n",
    "    control_mask = 1 << control_qubit\n",
    "    target_mask = 1 << target_qubit\n",
    "    \n",
    "    # Create temporary array to store new amplitudes\n",
    "    new_amplitudes = copy(state.amplitudes)\n",
    "    \n",
    "    # Process all basis states\n",
    "    for i in 0:(2^n-1)\n",
    "        # Only apply operation if control qubit is 1\n",
    "        if (i & control_mask) != 0\n",
    "            # Flip the target qubit\n",
    "            j = i ⊻ target_mask\n",
    "            # Swap amplitudes\n",
    "            new_amplitudes[i+1] = state.amplitudes[j+1]\n",
    "        end\n",
    "    end\n",
    "    \n",
    "    state.amplitudes .= new_amplitudes\n",
    "    return state\n",
    "end"
   ]
  },
  {
   "cell_type": "code",
   "execution_count": 8,
   "metadata": {},
   "outputs": [
    {
     "name": "stdout",
     "output_type": "stream",
     "text": [
      "Quantum state with 2 qubits:\n",
      "  (1.0 + 0.0im)|00⟩\n",
      "Quantum state with 2 qubits:\n",
      "  (0.707 + 0.0im)|00⟩\n",
      "  (0.707 + 0.0im)|01⟩\n",
      "Quantum state with 2 qubits:\n",
      "  (0.707 + 0.0im)|00⟩\n",
      "  (0.707 + 0.0im)|11⟩\n"
     ]
    }
   ],
   "source": [
    "state = basis_state(0,2)\n",
    "state |> print\n",
    "apply_hadamard!(state,0)\n",
    "state |> print\n",
    "apply_cnot!(state,0,1)\n",
    "state |> print"
   ]
  },
  {
   "cell_type": "code",
   "execution_count": 9,
   "metadata": {},
   "outputs": [],
   "source": []
  }
 ],
 "metadata": {
  "kernelspec": {
   "display_name": "Julia 1.10.4",
   "language": "julia",
   "name": "julia-1.10"
  },
  "language_info": {
   "file_extension": ".jl",
   "mimetype": "application/julia",
   "name": "julia",
   "version": "1.10.4"
  }
 },
 "nbformat": 4,
 "nbformat_minor": 2
}
